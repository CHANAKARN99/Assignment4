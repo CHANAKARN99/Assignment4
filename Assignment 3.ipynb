{
 "cells": [
  {
   "cell_type": "markdown",
   "id": "238491d8",
   "metadata": {},
   "source": [
    "# Assignment 3\n",
    "### Date: 22 Feb 2023\n",
    "## Chanakarn Charumalai"
   ]
  },
  {
   "cell_type": "markdown",
   "id": "d72f4b8e",
   "metadata": {},
   "source": [
    "## Exercise 1"
   ]
  },
  {
   "cell_type": "code",
   "execution_count": 2,
   "id": "860824da",
   "metadata": {},
   "outputs": [
    {
     "name": "stdout",
     "output_type": "stream",
     "text": [
      "30\n"
     ]
    }
   ],
   "source": [
    "x=lambda num1,num2:num1*num2\n",
    "print(x(5,6))"
   ]
  },
  {
   "cell_type": "markdown",
   "id": "a2e21e4e",
   "metadata": {},
   "source": [
    "## Exercise 2"
   ]
  },
  {
   "cell_type": "code",
   "execution_count": 3,
   "id": "9a827161",
   "metadata": {},
   "outputs": [
    {
     "name": "stdout",
     "output_type": "stream",
     "text": [
      "Area of a circle = 314.1592653589793\n"
     ]
    }
   ],
   "source": [
    "import math\n",
    "r=10\n",
    "area = math.pi * r * r\n",
    "print(\"Area of a circle = %.13f\" %area)"
   ]
  },
  {
   "cell_type": "markdown",
   "id": "79ca9ec8",
   "metadata": {},
   "source": [
    "## Exercise 3"
   ]
  },
  {
   "cell_type": "code",
   "execution_count": 4,
   "id": "2608f979",
   "metadata": {},
   "outputs": [
    {
     "data": {
      "text/plain": [
       "0.4"
      ]
     },
     "execution_count": 4,
     "metadata": {},
     "output_type": "execute_result"
    }
   ],
   "source": [
    "def divide(num1,num2):\n",
    "    return num1/num2\n",
    "divide(2,5)"
   ]
  },
  {
   "cell_type": "markdown",
   "id": "df689e8d",
   "metadata": {},
   "source": [
    "## Exercise 4"
   ]
  },
  {
   "cell_type": "code",
   "execution_count": 5,
   "id": "36207b0b",
   "metadata": {},
   "outputs": [
    {
     "name": "stdout",
     "output_type": "stream",
     "text": [
      "50\n"
     ]
    }
   ],
   "source": [
    "class Rectangle():\n",
    "    def __init__(self, l, w):\n",
    "        self.length = l\n",
    "        self.width  = w\n",
    "\n",
    "    def area(self):\n",
    "        return self.length*self.width\n",
    "\n",
    "r = Rectangle(5, 10)\n",
    "print(r.area())"
   ]
  },
  {
   "cell_type": "markdown",
   "id": "642453e4",
   "metadata": {},
   "source": [
    "## Exercise 5"
   ]
  },
  {
   "cell_type": "code",
   "execution_count": 6,
   "id": "dc8150c0",
   "metadata": {},
   "outputs": [
    {
     "name": "stdout",
     "output_type": "stream",
     "text": [
      "The area is: \n",
      "25\n",
      "This is a:  Square\n"
     ]
    }
   ],
   "source": [
    "class Shape():\n",
    "    def __init__(self,name,length):\n",
    "        self.name=name\n",
    "        self.length=length\n",
    "        \n",
    "    def area(self):\n",
    "        return 0\n",
    "\n",
    "class Square(Shape):\n",
    "    def area(self):\n",
    "        return self.length*self.length\n",
    "        \n",
    "    def describe(self):\n",
    "        return self.name\n",
    "        \n",
    "s = Square('Square',5)\n",
    "print(\"The area is: \")\n",
    "print(s.area())\n",
    "print(\"This is a: \",s.describe()) "
   ]
  },
  {
   "cell_type": "code",
   "execution_count": null,
   "id": "781983e1",
   "metadata": {},
   "outputs": [],
   "source": []
  }
 ],
 "metadata": {
  "kernelspec": {
   "display_name": "Python 3 (ipykernel)",
   "language": "python",
   "name": "python3"
  },
  "language_info": {
   "codemirror_mode": {
    "name": "ipython",
    "version": 3
   },
   "file_extension": ".py",
   "mimetype": "text/x-python",
   "name": "python",
   "nbconvert_exporter": "python",
   "pygments_lexer": "ipython3",
   "version": "3.9.13"
  }
 },
 "nbformat": 4,
 "nbformat_minor": 5
}
