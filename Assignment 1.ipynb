{
 "cells": [
  {
   "cell_type": "markdown",
   "id": "38fd093d",
   "metadata": {},
   "source": [
    "# Assignment 1\n",
    "### Date 09 Feb 2023\n",
    "## Chanakarn Charumalai"
   ]
  },
  {
   "cell_type": "markdown",
   "id": "12e8f712",
   "metadata": {},
   "source": [
    "# 2. List of most commonly used programing languages\n",
    "* C++\n",
    "* JavaScript\n",
    "* Python\n",
    "* SQL\n",
    "* PHP"
   ]
  },
  {
   "cell_type": "markdown",
   "id": "0990be94",
   "metadata": {},
   "source": [
    "# 3. A table"
   ]
  },
  {
   "cell_type": "markdown",
   "id": "3ee69e9d",
   "metadata": {},
   "source": [
    "|Intermediate devices | End devices | Media |\n",
    "|---------------------|-------------|--------|\n",
    "|Switches and wireless | Computer | Digital camera |\n",
    "|Routers | Security Camera | Webcams|\n",
    "|Firewalls| Newtwork printers | Firewalls|\n"
   ]
  },
  {
   "cell_type": "markdown",
   "id": "d1320ccc",
   "metadata": {},
   "source": [
    "# Part II"
   ]
  },
  {
   "cell_type": "code",
   "execution_count": 1,
   "id": "807f4a2e",
   "metadata": {},
   "outputs": [
    {
     "name": "stdout",
     "output_type": "stream",
     "text": [
      "The user name:Chanakarn\n",
      "Hello Chanakarn\n"
     ]
    }
   ],
   "source": [
    "Name = input('The user name:')\n",
    "print ('Hello', Name)"
   ]
  },
  {
   "cell_type": "code",
   "execution_count": 2,
   "id": "f4661a85",
   "metadata": {},
   "outputs": [
    {
     "name": "stdout",
     "output_type": "stream",
     "text": [
      "First no: 5\n",
      "Second no: 7\n",
      "sum = 12\n"
     ]
    }
   ],
   "source": [
    "a = int(input(\"First no: \"))\n",
    "b = int(input(\"Second no: \"))\n",
    "print(\"sum = %d\" %(a+b))"
   ]
  },
  {
   "cell_type": "code",
   "execution_count": null,
   "id": "45914a40",
   "metadata": {},
   "outputs": [],
   "source": []
  }
 ],
 "metadata": {
  "kernelspec": {
   "display_name": "Python 3 (ipykernel)",
   "language": "python",
   "name": "python3"
  },
  "language_info": {
   "codemirror_mode": {
    "name": "ipython",
    "version": 3
   },
   "file_extension": ".py",
   "mimetype": "text/x-python",
   "name": "python",
   "nbconvert_exporter": "python",
   "pygments_lexer": "ipython3",
   "version": "3.9.13"
  }
 },
 "nbformat": 4,
 "nbformat_minor": 5
}
